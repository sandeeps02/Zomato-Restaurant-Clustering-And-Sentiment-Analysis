{
  "nbformat": 4,
  "nbformat_minor": 0,
  "metadata": {
    "colab": {
      "private_outputs": true,
      "provenance": [],
      "collapsed_sections": [
        "vncDsAP0Gaoa",
        "FJNUwmbgGyua",
        "w6K7xa23Elo4",
        "yQaldy8SH6Dl",
        "mDgbUHAGgjLW",
        "O_i_v8NEhb9l",
        "HhfV-JJviCcP",
        "Y3lxredqlCYt",
        "3RnN4peoiCZX",
        "x71ZqKXriCWQ",
        "7hBIi_osiCS2",
        "JlHwYmJAmNHm",
        "35m5QtbWiB9F",
        "PoPl-ycgm1ru",
        "H0kj-8xxnORC",
        "nA9Y7ga8ng1Z",
        "PBTbrJXOngz2",
        "u3PMJOP6ngxN",
        "dauF4eBmngu3",
        "bKJF3rekwFvQ",
        "MSa1f5Uengrz",
        "GF8Ens_Soomf",
        "0wOQAZs5pc--",
        "K5QZ13OEpz2H",
        "lQ7QKXXCp7Bj",
        "448CDAPjqfQr",
        "KSlN3yHqYklG",
        "t6dVpIINYklI",
        "ijmpgYnKYklI",
        "-JiQyfWJYklI",
        "EM7whBJCYoAo",
        "fge-S5ZAYoAp",
        "85gYPyotYoAp",
        "RoGjAbkUYoAp",
        "4Of9eVA-YrdM",
        "iky9q4vBYrdO",
        "F6T5p64dYrdO",
        "y-Ehk30pYrdP",
        "bamQiAODYuh1",
        "QHF8YVU7Yuh3",
        "GwzvFGzlYuh3",
        "qYpmQ266Yuh3",
        "OH-pJp9IphqM",
        "bbFf2-_FphqN",
        "_ouA3fa0phqN",
        "Seke61FWphqN",
        "PIIx-8_IphqN",
        "t27r6nlMphqO",
        "r2jJGEOYphqO",
        "b0JNsNcRphqO",
        "BZR9WyysphqO",
        "jj7wYXLtphqO",
        "eZrbJ2SmphqO",
        "rFu4xreNphqO",
        "YJ55k-q6phqO",
        "gCFgpxoyphqP",
        "OVtJsKN_phqQ",
        "lssrdh5qphqQ",
        "U2RJ9gkRphqQ",
        "1M8mcRywphqQ",
        "tgIPom80phqQ",
        "JMzcOPDDphqR",
        "x-EpHcCOp1ci",
        "X_VqEhTip1ck",
        "8zGJKyg5p1ck",
        "PVzmfK_Ep1ck",
        "n3dbpmDWp1ck",
        "ylSl6qgtp1ck",
        "ZWILFDl5p1ck",
        "M7G43BXep1ck",
        "Ag9LCva-p1cl",
        "E6MkPsBcp1cl",
        "2cELzS2fp1cl",
        "3MPXvC8up1cl",
        "NC_X3p0fY2L0",
        "UV0SzAkaZNRQ",
        "YPEH6qLeZNRQ",
        "q29F0dvdveiT",
        "EXh0U9oCveiU",
        "22aHeOlLveiV",
        "g-ATYxFrGrvw",
        "Yfr_Vlr8HBkt",
        "8yEUt7NnHlrM",
        "tEA2Xm5dHt1r",
        "I79__PHVH19G",
        "Ou-I18pAyIpj",
        "fF3858GYyt-u",
        "4_0_7-oCpUZd",
        "hwyV_J3ipUZe",
        "3yB-zSqbpUZe",
        "dEUvejAfpUZe",
        "Fd15vwWVpUZf",
        "bn_IUdTipZyH",
        "49K5P_iCpZyH",
        "Nff-vKELpZyI",
        "kLW572S8pZyI",
        "dWbDXHzopZyI",
        "yLjJCtPM0KBk",
        "xiyOF9F70UgQ",
        "7wuGOrhz0itI",
        "id1riN9m0vUs",
        "578E2V7j08f6",
        "89xtkJwZ18nB",
        "67NQN5KX2AMe",
        "Iwf50b-R2tYG",
        "GMQiZwjn3iu7",
        "WVIkgGqN3qsr",
        "XkPnILGE3zoT",
        "Hlsf0x5436Go",
        "mT9DMSJo4nBL",
        "c49ITxTc407N",
        "OeJFEK0N496M",
        "9ExmJH0g5HBk",
        "cJNqERVU536h",
        "k5UmGsbsOxih",
        "T0VqWOYE6DLQ",
        "qBMux9mC6MCf",
        "-oLEiFgy-5Pf",
        "C74aWNz2AliB",
        "2DejudWSA-a0",
        "pEMng2IbBLp7",
        "rAdphbQ9Bhjc",
        "TNVZ9zx19K6k",
        "nqoHp30x9hH9",
        "rMDnDkt2B6du",
        "yiiVWRdJDDil",
        "1UUpS68QDMuG",
        "kexQrXU-DjzY",
        "T5CmagL3EC8N",
        "BhH2vgX9EjGr",
        "qjKvONjwE8ra",
        "P1XJ9OREExlT",
        "VFOzZv6IFROw",
        "TIqpNgepFxVj",
        "VfCC591jGiD4",
        "OB4l2ZhMeS1U",
        "ArJBuiUVfxKd",
        "4qY1EAkEfxKe",
        "PiV4Ypx8fxKe",
        "TfvqoZmBfxKf",
        "dJ2tPlVmpsJ0",
        "JWYfwnehpsJ1",
        "-jK_YjpMpsJ2",
        "HAih1iBOpsJ2",
        "zVGeBEFhpsJ2",
        "bmKjuQ-FpsJ3",
        "Fze-IPXLpx6K",
        "7AN1z2sKpx6M",
        "9PIHJqyupx6M",
        "_-qAgymDpx6N",
        "Z-hykwinpx6N",
        "h_CCil-SKHpo",
        "cBFFvTBNJzUa",
        "HvGl1hHyA_VK",
        "EyNgTHvd2WFk",
        "KH5McJBi2d8v",
        "iW_Lq9qf2h6X",
        "-Kee-DAl2viO",
        "gCX9965dhzqZ",
        "gIfDvo9L0UH2"
      ],
      "include_colab_link": true
    },
    "kernelspec": {
      "name": "python3",
      "display_name": "Python 3"
    },
    "language_info": {
      "name": "python"
    }
  },
  "cells": [
    {
      "cell_type": "markdown",
      "metadata": {
        "id": "view-in-github",
        "colab_type": "text"
      },
      "source": [
        "<a href=\"https://colab.research.google.com/github/sandeeps02/Zomato-Restaurant-Clustering-And-Sentiment-Analysis/blob/main/Zomato_Restaurant_Clustering_And_Sentiment_Analysis.ipynb\" target=\"_parent\"><img src=\"https://colab.research.google.com/assets/colab-badge.svg\" alt=\"Open In Colab\"/></a>"
      ]
    },
    {
      "cell_type": "markdown",
      "source": [
        "# **Project Name**    - Zomato Restaurant Clustering And Sentiment Analysis\n",
        "\n"
      ],
      "metadata": {
        "id": "vncDsAP0Gaoa"
      }
    },
    {
      "cell_type": "markdown",
      "source": [
        "##### **Project Type**    - EDA/Unsupervised\n",
        "##### **Contribution**    - Individual\n"
      ],
      "metadata": {
        "id": "beRrZCGUAJYm"
      }
    },
    {
      "cell_type": "markdown",
      "source": [
        "# **Project Summary -**"
      ],
      "metadata": {
        "id": "FJNUwmbgGyua"
      }
    },
    {
      "cell_type": "markdown",
      "source": [
        "Zomato is an Indian restaurant aggregator and food delivery start-up founded by Deepinder Goyal and Pankaj Chaddah in 2008 Zomato provides information, menus and user-reviews of restaurants, and also has food delivery options from partner restaurants in select cities, India is quite famous for its diverse multi cuisine available in a large number of restaurants and hotel resorts, which is reminiscent of unity in diversity, Restaurant business in India is always evolving More Indians are warming up to the idea of eating restaurant food whether by dining outside or getting food delivered. The growing number of restaurants in very state of India has been a motivation to inspect the data to get some insights, interesting facts and figures about the Indian food industry in each city. So, this project focuses on analysing the Zomato restaurant data for each city in India. The Project focuses on Customers and Company, you have to analyze the sentiments of the reviews given by the customer in the data and make some useful conclusions in the form of Visualizations. Also, cluster the zomato restaurants into different segments The data is vizualized as it becomes easy to analyse data at instant. The Analysis also solves sorte of the business cases that can directly help the customers finding the Best restaurant in their locality and for the company to grow up and work on the fields they are currently logging in. This could help in clustering the restaurants into segments. Also the data has valuable information around cuisine and costing which can be used in cost vs. benefit analysis Data could be used for sentiment analysis. Also the metadata of reviewers can be u used for identifying the critics in the industry."
      ],
      "metadata": {
        "id": "F6v_1wHtG2nS"
      }
    },
    {
      "cell_type": "markdown",
      "source": [
        "# **GitHub Link -**"
      ],
      "metadata": {
        "id": "w6K7xa23Elo4"
      }
    },
    {
      "cell_type": "markdown",
      "source": [
        "https://github.com/sandeeps02/Zomato-Restaurant-Clustering-And-Sentiment-Analysis\n",
        "\n"
      ],
      "metadata": {
        "id": "h1o69JH3Eqqn"
      }
    },
    {
      "cell_type": "markdown",
      "source": [
        "# **Problem Statement**\n"
      ],
      "metadata": {
        "id": "yQaldy8SH6Dl"
      }
    },
    {
      "cell_type": "markdown",
      "source": [
        "**Write Problem Statement Here.**"
      ],
      "metadata": {
        "id": "DpeJGUA3kjGy"
      }
    },
    {
      "cell_type": "markdown",
      "source": [
        "# **General Guidelines** : -  "
      ],
      "metadata": {
        "id": "mDgbUHAGgjLW"
      }
    },
    {
      "cell_type": "markdown",
      "source": [
        "1.   Well-structured, formatted, and commented code is required.\n",
        "2.   Exception Handling, Production Grade Code & Deployment Ready Code will be a plus. Those students will be awarded some additional credits.\n",
        "     \n",
        "     The additional credits will have advantages over other students during Star Student selection.\n",
        "       \n",
        "             [ Note: - Deployment Ready Code is defined as, the whole .ipynb notebook should be executable in one go\n",
        "                       without a single error logged. ]\n",
        "\n",
        "3.   Each and every logic should have proper comments.\n",
        "4. You may add as many number of charts you want. Make Sure for each and every chart the following format should be answered.\n",
        "        \n",
        "\n",
        "```\n",
        "# Chart visualization code\n",
        "```\n",
        "            \n",
        "\n",
        "*   Why did you pick the specific chart?\n",
        "*   What is/are the insight(s) found from the chart?\n",
        "* Will the gained insights help creating a positive business impact?\n",
        "Are there any insights that lead to negative growth? Justify with specific reason.\n",
        "\n",
        "5. You have to create at least 15 logical & meaningful charts having important insights.\n",
        "\n",
        "\n",
        "[ Hints : - Do the Vizualization in  a structured way while following \"UBM\" Rule.\n",
        "\n",
        "U - Univariate Analysis,\n",
        "\n",
        "B - Bivariate Analysis (Numerical - Categorical, Numerical - Numerical, Categorical - Categorical)\n",
        "\n",
        "M - Multivariate Analysis\n",
        " ]\n",
        "\n",
        "\n",
        "\n",
        "\n",
        "\n",
        "6. You may add more ml algorithms for model creation. Make sure for each and every algorithm, the following format should be answered.\n",
        "\n",
        "\n",
        "*   Explain the ML Model used and it's performance using Evaluation metric Score Chart.\n",
        "\n",
        "\n",
        "*   Cross- Validation & Hyperparameter Tuning\n",
        "\n",
        "*   Have you seen any improvement? Note down the improvement with updates Evaluation metric Score Chart.\n",
        "\n",
        "*   Explain each evaluation metric's indication towards business and the business impact pf the ML model used.\n",
        "\n",
        "\n",
        "\n",
        "\n",
        "\n",
        "\n",
        "\n",
        "\n",
        "\n",
        "\n",
        "\n",
        "\n",
        "\n",
        "\n",
        "\n",
        "\n",
        "\n",
        "\n"
      ],
      "metadata": {
        "id": "ZrxVaUj-hHfC"
      }
    },
    {
      "cell_type": "markdown",
      "source": [],
      "metadata": {
        "id": "JBCbR9Wg9HoL"
      }
    },
    {
      "cell_type": "markdown",
      "source": [
        "# Introduction to the Notebook"
      ],
      "metadata": {
        "id": "SaIC8OGD9qx-"
      }
    },
    {
      "cell_type": "markdown",
      "source": [
        "In this notebook we can explore the activities of the Zomato restaurants in Hyderabad, the capital and largest city of the Indian state of Telangana and the the jure capital of Andhra Pradesh.\n",
        "We are going to work with two dataset:\n",
        "* **Restaurant names and Metadata** - This could help in clustering the restaurants into segments. Also the data has valuable information around cuisine and costing which can be used in cost vs. benefit analysis\n",
        "* **Restaurant reviews** - Data could be used for sentiment analysis. Also the metadata of reviewers can be used for identifying the critics in the industry."
      ],
      "metadata": {
        "id": "b60dEEXP9qx-"
      }
    },
    {
      "cell_type": "markdown",
      "source": [
        "# **Importing libraries and reading data files**"
      ],
      "metadata": {
        "id": "UrVfk67S9qx_"
      }
    },
    {
      "cell_type": "markdown",
      "source": [
        "**Import libraries**"
      ],
      "metadata": {
        "id": "J3_mfnPu9qx_"
      }
    },
    {
      "cell_type": "code",
      "source": [
        "import pandas as pd\n",
        "import numpy as np\n",
        "import seaborn as sns\n",
        "import matplotlib.pyplot as plt\n",
        "import plotly.express as px"
      ],
      "metadata": {
        "trusted": true,
        "id": "ymzpONjY9qx_"
      },
      "execution_count": null,
      "outputs": []
    },
    {
      "cell_type": "markdown",
      "source": [
        "**Reading datasets**"
      ],
      "metadata": {
        "id": "kTrc2Non9qyA"
      }
    },
    {
      "cell_type": "code",
      "source": [
        "from google.colab import drive\n",
        "drive.mount('/content/drive')"
      ],
      "metadata": {
        "id": "4J2hrCmz-Hx-"
      },
      "execution_count": null,
      "outputs": []
    },
    {
      "cell_type": "code",
      "source": [
        "name_filepath = '/content/drive/MyDrive/Colab Notebooks/Zomato dataset/Zomato Restaurant names and Metadata.csv'\n",
        "reviews_filepath = '/content/drive/MyDrive/Colab Notebooks/Zomato dataset/Zomato Restaurant reviews.csv'\n",
        "\n",
        "name_metadata_df = pd.read_csv(name_filepath)\n",
        "reviews_df = pd.read_csv(reviews_filepath)"
      ],
      "metadata": {
        "trusted": true,
        "id": "L3dmm1Ab9qyA"
      },
      "execution_count": null,
      "outputs": []
    },
    {
      "cell_type": "code",
      "source": [
        "restaurants = name_metadata_df.copy()\n",
        "reviews = reviews_df.copy()"
      ],
      "metadata": {
        "_kg_hide-input": true,
        "trusted": true,
        "id": "LI9BdOD29qyB"
      },
      "execution_count": null,
      "outputs": []
    },
    {
      "cell_type": "markdown",
      "source": [
        "------------------------------------------------------------------------------------------------------"
      ],
      "metadata": {
        "id": "ekZ2zpeU9qyB"
      }
    },
    {
      "cell_type": "markdown",
      "source": [
        "# **Restaurants dataset preprocessing**"
      ],
      "metadata": {
        "id": "DXQeYlgj9qyB"
      }
    },
    {
      "cell_type": "markdown",
      "source": [
        "**How big is the restaurants dataset?**"
      ],
      "metadata": {
        "id": "CZk0rrVy9qyB"
      }
    },
    {
      "cell_type": "code",
      "source": [
        "restaurants.shape"
      ],
      "metadata": {
        "_kg_hide-input": true,
        "trusted": true,
        "id": "5-n9mDoL9qyB"
      },
      "execution_count": null,
      "outputs": []
    },
    {
      "cell_type": "markdown",
      "source": [
        "**Let's have a look on the fisrt 5 rows of the dataset**"
      ],
      "metadata": {
        "id": "cjZXIbp39qyB"
      }
    },
    {
      "cell_type": "code",
      "source": [
        "restaurants.head()"
      ],
      "metadata": {
        "_kg_hide-input": true,
        "trusted": true,
        "id": "92z0qkOF9qyB"
      },
      "execution_count": null,
      "outputs": []
    },
    {
      "cell_type": "markdown",
      "source": [
        "**Convert the 'Cost' column, deleting the comma and changing the data type into 'int64'**"
      ],
      "metadata": {
        "id": "rWLTUPKp9qyC"
      }
    },
    {
      "cell_type": "code",
      "source": [
        "restaurants['Cost'] = restaurants['Cost'].str.replace(\",\",\"\").astype('int64')"
      ],
      "metadata": {
        "trusted": true,
        "id": "K-BzNTxe9qyC"
      },
      "execution_count": null,
      "outputs": []
    },
    {
      "cell_type": "markdown",
      "source": [
        "**We convert the 'Cost' column data type but, what are the other features data type?**"
      ],
      "metadata": {
        "id": "SwCcEx-s9qyC"
      }
    },
    {
      "cell_type": "code",
      "source": [
        "restaurants.info()"
      ],
      "metadata": {
        "_kg_hide-input": true,
        "trusted": true,
        "id": "qsID0Gsk9qyC"
      },
      "execution_count": null,
      "outputs": []
    },
    {
      "cell_type": "markdown",
      "source": [
        "**Finally, how much missing values there are in these dataset?**"
      ],
      "metadata": {
        "id": "3vUc4mAQ9qyC"
      }
    },
    {
      "cell_type": "code",
      "source": [
        "restaurants.isnull().sum()"
      ],
      "metadata": {
        "_kg_hide-input": true,
        "trusted": true,
        "id": "JvHDVQ4A9qyD"
      },
      "execution_count": null,
      "outputs": []
    },
    {
      "cell_type": "markdown",
      "source": [
        "--------------------------------------------------------------------------------------------------"
      ],
      "metadata": {
        "id": "cX317_nm9qyD"
      }
    },
    {
      "cell_type": "markdown",
      "source": [
        "# **Reviews dataset preprocessing**"
      ],
      "metadata": {
        "id": "uyYvPBi99qyD"
      }
    },
    {
      "cell_type": "markdown",
      "source": [
        "**How big is the reviews dataset?**"
      ],
      "metadata": {
        "id": "6Zae_31A9qyD"
      }
    },
    {
      "cell_type": "code",
      "source": [
        "reviews.shape"
      ],
      "metadata": {
        "_kg_hide-input": true,
        "trusted": true,
        "id": "i7YvwzzT9qyE"
      },
      "execution_count": null,
      "outputs": []
    },
    {
      "cell_type": "markdown",
      "source": [
        "**Let's have a look on the fisrt 5 rows of the dataset**"
      ],
      "metadata": {
        "id": "LuVBcoW29qyE"
      }
    },
    {
      "cell_type": "code",
      "source": [
        "reviews.head()"
      ],
      "metadata": {
        "_kg_hide-input": true,
        "trusted": true,
        "id": "xDJGqaBR9qyE"
      },
      "execution_count": null,
      "outputs": []
    },
    {
      "cell_type": "code",
      "source": [
        "reviews.isnull().sum()"
      ],
      "metadata": {
        "_kg_hide-input": true,
        "trusted": true,
        "id": "afDOiqqs9qyE"
      },
      "execution_count": null,
      "outputs": []
    },
    {
      "cell_type": "markdown",
      "source": [
        "**As we can see, there are few missing values compared to the shape of the dataset so I decide to drop them all because there isn't a big loss**"
      ],
      "metadata": {
        "id": "lSYTPnY09qyE"
      }
    },
    {
      "cell_type": "code",
      "source": [
        "reviews.dropna(inplace = True)"
      ],
      "metadata": {
        "trusted": true,
        "id": "aMVpDx6D9qyE"
      },
      "execution_count": null,
      "outputs": []
    },
    {
      "cell_type": "code",
      "source": [
        "reviews.info()"
      ],
      "metadata": {
        "trusted": true,
        "id": "0VxGLjnX9qyE"
      },
      "execution_count": null,
      "outputs": []
    },
    {
      "cell_type": "markdown",
      "source": [
        "**After have had a look on the type of the features, I want to change a few of them. First of all i want to change the 'Rating' column dtype.**"
      ],
      "metadata": {
        "id": "LFcQFKwR9qyF"
      }
    },
    {
      "cell_type": "code",
      "source": [
        "reviews['Rating'].value_counts()"
      ],
      "metadata": {
        "_kg_hide-input": true,
        "trusted": true,
        "id": "MoDqjwLL9qyF"
      },
      "execution_count": null,
      "outputs": []
    },
    {
      "cell_type": "markdown",
      "source": [
        "**As we can see there is that 'like' which is inconvertible to a number so the only way I can convert this functionality to type 'float64' is to omit that data**"
      ],
      "metadata": {
        "id": "MLPGr0Oi9qyF"
      }
    },
    {
      "cell_type": "code",
      "source": [
        "reviews=reviews[reviews['Rating']!='Like']"
      ],
      "metadata": {
        "_kg_hide-input": true,
        "trusted": true,
        "id": "d_m617-A9qyF"
      },
      "execution_count": null,
      "outputs": []
    },
    {
      "cell_type": "markdown",
      "source": [
        "**Now, as said before i change a lot of dtype of the other features. I also add a new feature called 'Year' extrapolating the data from the 'Time' column**"
      ],
      "metadata": {
        "id": "C7OhbyBr9qyF"
      }
    },
    {
      "cell_type": "code",
      "source": [
        "reviews['Rating'] = reviews['Rating'].astype('float64')\n",
        "reviews['Reviews'],reviews['Followers']=reviews['Metadata'].str.split(',').str\n",
        "reviews['Reviews'] = pd.to_numeric(reviews['Reviews'].str.split(' ').str[0])\n",
        "reviews['Followers'] = pd.to_numeric(reviews['Followers'].str.split(' ').str[1])\n",
        "reviews['Time']=pd.to_datetime(reviews['Time'])\n",
        "reviews['Year'] = pd.DatetimeIndex(reviews['Time']).year\n",
        "reviews['Hour'] = pd.DatetimeIndex(reviews['Time']).hour\n",
        "reviews = reviews.drop(['Metadata'], axis = 1)\n",
        "reviews.dtypes"
      ],
      "metadata": {
        "_kg_hide-input": true,
        "trusted": true,
        "id": "3KVwqLKC9qyF"
      },
      "execution_count": null,
      "outputs": []
    },
    {
      "cell_type": "markdown",
      "source": [
        "**And finally we can have another look of the dataset with our changes**"
      ],
      "metadata": {
        "id": "eadU0pql9qyJ"
      }
    },
    {
      "cell_type": "code",
      "source": [
        "reviews.head()"
      ],
      "metadata": {
        "_kg_hide-input": true,
        "trusted": true,
        "id": "u4FVzW7Y9qyK"
      },
      "execution_count": null,
      "outputs": []
    },
    {
      "cell_type": "markdown",
      "source": [
        "---------------------------------------------------------------------------------------------------------"
      ],
      "metadata": {
        "id": "V8cZ68Rc9qyK"
      }
    },
    {
      "cell_type": "markdown",
      "source": [
        "# Analysis of various themes of the datasets"
      ],
      "metadata": {
        "id": "7KIjfOtP9qyK"
      }
    },
    {
      "cell_type": "markdown",
      "source": [
        "# Cuisines variety analisys"
      ],
      "metadata": {
        "id": "Z6St5g3i9qyK"
      }
    },
    {
      "cell_type": "markdown",
      "source": [
        "**First of all we can see the 10 cuisines most presents in our dataset**"
      ],
      "metadata": {
        "id": "umyyvpXq9qyK"
      }
    },
    {
      "cell_type": "code",
      "source": [
        "# Split cuisines and count occurrences\n",
        "cuis_list = {}\n",
        "for cuisines in restaurants['Cuisines']:\n",
        "    for cuisine in cuisines.split(', '):\n",
        "        if cuisine in cuis_list:\n",
        "            cuis_list[cuisine] += 1\n",
        "        else:\n",
        "            cuis_list[cuisine] = 1\n",
        "\n",
        "# Create DataFrame and sort\n",
        "cuis_df = pd.DataFrame({'Cuisine': list(cuis_list.keys()), 'Counts of Restaurants': list(cuis_list.values())})\n",
        "cuis_df.sort_values(by='Counts of Restaurants', ascending=False, inplace=True)\n",
        "\n",
        "# Select and print top 10 cuisines\n",
        "top_10_cuis = cuis_df.head(10)\n",
        "print('The Top 10 Cuisines are:\\n', top_10_cuis)"
      ],
      "metadata": {
        "_kg_hide-input": true,
        "trusted": true,
        "id": "6M0y2i3M9qyK"
      },
      "execution_count": null,
      "outputs": []
    },
    {
      "cell_type": "markdown",
      "source": [
        "**A list is a good summertime but a bar chart is perhaps a better way to represent a lot of data in a more intuitive way**"
      ],
      "metadata": {
        "id": "Zm9hGBt_9qyL"
      }
    },
    {
      "cell_type": "code",
      "source": [
        "plt.figure(figsize=(15, 10))\n",
        "\n",
        "# Using Seaborn's bar plot for consistent styling\n",
        "sns.barplot(data=cuis_df, x='Cuisine', y='Counts of Restaurants', palette=\"crest\")\n",
        "\n",
        "plt.xlabel('Cuisines', size=15)\n",
        "plt.xticks(rotation=45, ha=\"right\")  # Adjust rotation and alignment for readability\n",
        "plt.ylabel('Cuisine available at Number of Restaurants', size=15)\n",
        "plt.title('Most popular cuisines at Restaurants', size=30, color='green')\n",
        "\n",
        "plt.tight_layout()\n",
        "plt.show()"
      ],
      "metadata": {
        "_kg_hide-input": true,
        "trusted": true,
        "id": "fxig6oVR9qyL"
      },
      "execution_count": null,
      "outputs": []
    },
    {
      "cell_type": "markdown",
      "source": [
        "**Secondly we can draw a WordCloud of the most nominated words in the cuisine feature**"
      ],
      "metadata": {
        "id": "teXk4Ty39qyL"
      }
    },
    {
      "cell_type": "code",
      "source": [
        "from wordcloud import WordCloud\n",
        "import matplotlib.pyplot as plt\n",
        "\n",
        "# Assuming you have 'cuis_list' dictionary with cuisine counts\n",
        "\n",
        "words_list = cuis_list.keys()\n",
        "strr = ' '.join(words_list)  # Join the cuisine names using a space\n",
        "\n",
        "wordcloud = WordCloud(width=1400, height=1400,\n",
        "                      background_color='ivory',\n",
        "                      min_font_size=12).generate(strr)\n",
        "\n",
        "# plot the WordCloud image\n",
        "plt.figure(figsize=(8, 8), facecolor=None)\n",
        "plt.imshow(wordcloud, interpolation='bilinear')  # Use bilinear interpolation for better quality\n",
        "plt.axis(\"off\")\n",
        "plt.tight_layout(pad=0)\n",
        "\n",
        "plt.show()\n"
      ],
      "metadata": {
        "_kg_hide-input": true,
        "trusted": true,
        "id": "p7rlwsUD9qyL"
      },
      "execution_count": null,
      "outputs": []
    },
    {
      "cell_type": "markdown",
      "source": [
        "# Costs of the restaurants"
      ],
      "metadata": {
        "id": "za0uXJfc9qyL"
      }
    },
    {
      "cell_type": "markdown",
      "source": [
        "**Now we can plot a graph representing the restaurants based on the costs of them**"
      ],
      "metadata": {
        "id": "mY1TVzgk9qyL"
      }
    },
    {
      "cell_type": "code",
      "source": [
        "restaurants_cost=restaurants.groupby('Name').apply(lambda x:np.average(x['Cost'])).reset_index(name='Cost')\n",
        "restaurants_cost.sort_values(by='Cost',ascending=False,inplace=True)\n",
        "avg=np.average(restaurants_cost['Cost'])\n",
        "plt.figure(figsize=(25, 10))\n",
        "\n",
        "# Using Seaborn's bar plot for consistent styling\n",
        "sns.barplot(data=restaurants_cost, x='Name', y='Cost', palette=\"viridis\")\n",
        "\n",
        "plt.scatter(restaurants_cost['Name'], np.full_like(restaurants_cost['Name'], avg), color='red', label='Average Cost at Restaurant')\n",
        "\n",
        "plt.xlabel('Restaurants', size=15)\n",
        "plt.xticks(rotation=90)\n",
        "plt.ylabel('Average Cost', size=15)\n",
        "plt.title('Overall Cost Summary of Restaurants', size=30)\n",
        "plt.legend()\n",
        "\n",
        "plt.tight_layout()\n",
        "plt.show()"
      ],
      "metadata": {
        "_kg_hide-input": true,
        "trusted": true,
        "id": "4Bm0GkBM9qyM"
      },
      "execution_count": null,
      "outputs": []
    },
    {
      "cell_type": "markdown",
      "source": [
        "**But which are the most expensive restaurants?**"
      ],
      "metadata": {
        "id": "e4MWglOX9qyM"
      }
    },
    {
      "cell_type": "code",
      "source": [
        "best_5_rest = restaurants_cost[:5]\n",
        "best_5_rest.sort_values(by='Cost',ascending=True,inplace=True)\n",
        "plt.figure(figsize=(20,5))\n",
        "plt.bar(best_5_rest['Name'],best_5_rest['Cost'], color = sns.color_palette(\"hls\", 8))\n",
        "plt.title('The 5 most expensive Restaurants',size=28)\n",
        "plt.xlabel('Restaurants',size=15)\n",
        "plt.ylabel('Average Cost',size=15)"
      ],
      "metadata": {
        "_kg_hide-input": true,
        "trusted": true,
        "id": "2pfPvQoH9qyM"
      },
      "execution_count": null,
      "outputs": []
    },
    {
      "cell_type": "markdown",
      "source": [
        "**And which are the cheapest restaurants?**"
      ],
      "metadata": {
        "id": "tIKRMrxz9qyM"
      }
    },
    {
      "cell_type": "code",
      "source": [
        "worst_5_rest = restaurants_cost[-5:]\n",
        "plt.figure(figsize=(20,5))\n",
        "plt.bar(worst_5_rest['Name'],worst_5_rest['Cost'], color = sns.color_palette(\"hls\", 8))\n",
        "plt.title('The 5 most cheap Restaurants',size=28)\n",
        "plt.xlabel('Restaurants',size=15)\n",
        "plt.ylabel('Average Cost',size=15)"
      ],
      "metadata": {
        "_kg_hide-input": true,
        "trusted": true,
        "id": "mzsATvk39qyM"
      },
      "execution_count": null,
      "outputs": []
    },
    {
      "cell_type": "markdown",
      "source": [
        "**Finally, we can draw a WordCloud of the most nominated words in the 'Name' feature**"
      ],
      "metadata": {
        "id": "w55WwEKj9qyM"
      }
    },
    {
      "cell_type": "code",
      "source": [
        "Rests = restaurants.Name.unique()\n",
        "rest_string = ' '.join(Rests)  # Join the restaurant names using a space\n",
        "\n",
        "wordcloud = WordCloud(width=1400, height=1400,\n",
        "                      background_color='lavenderblush',\n",
        "                      min_font_size=12).generate(rest_string)\n",
        "\n",
        "# Plot the WordCloud image\n",
        "plt.figure(figsize=(8, 8), facecolor=None)\n",
        "plt.imshow(wordcloud, interpolation='bilinear')\n",
        "plt.axis(\"off\")\n",
        "plt.tight_layout(pad=0)\n",
        "\n",
        "plt.show()"
      ],
      "metadata": {
        "_kg_hide-input": true,
        "trusted": true,
        "id": "2jrE8iw59qyN"
      },
      "execution_count": null,
      "outputs": []
    },
    {
      "cell_type": "markdown",
      "source": [
        "# Top 15 Reviewer"
      ],
      "metadata": {
        "id": "A5khRM2R9qyN"
      }
    },
    {
      "cell_type": "markdown",
      "source": [
        "**First of all, we extrapolate the 15 profiles that have made more reviews**"
      ],
      "metadata": {
        "id": "tYLzpDZx9qyN"
      }
    },
    {
      "cell_type": "code",
      "source": [
        "reviewer_list = reviews.groupby('Reviewer').apply(lambda x: x['Reviewer'].count()).reset_index(name='Review Count')\n",
        "reviewer_list = reviewer_list.sort_values(by = 'Review Count',ascending=False)\n",
        "top_reviewers = reviewer_list[:15]"
      ],
      "metadata": {
        "_kg_hide-input": true,
        "trusted": true,
        "id": "jqIBmv7x9qyN"
      },
      "execution_count": null,
      "outputs": []
    },
    {
      "cell_type": "markdown",
      "source": [
        "**Secondly, we plot a graph to represent them**"
      ],
      "metadata": {
        "id": "hZzB4fic9qyN"
      }
    },
    {
      "cell_type": "code",
      "source": [
        "plt.figure(figsize=(13, 5))\n",
        "\n",
        "# Using Seaborn's bar plot for consistent styling\n",
        "sns.barplot(data=top_reviewers, x='Reviewer', y='Review Count', palette=\"hls\")\n",
        "\n",
        "plt.xticks(rotation=75, ha='right')  # Adjust rotation and alignment for readability\n",
        "plt.title('Top 15 Reviewers', size=28)\n",
        "plt.xlabel('Name (or Nickname)', size=15)\n",
        "plt.ylabel('Number of Reviews', size=15)\n",
        "\n",
        "plt.tight_layout()\n",
        "plt.show()"
      ],
      "metadata": {
        "_kg_hide-input": true,
        "trusted": true,
        "id": "NvOYgl879qyN"
      },
      "execution_count": null,
      "outputs": []
    },
    {
      "cell_type": "markdown",
      "source": [
        "**Then we can calculate the average of their ratings review**"
      ],
      "metadata": {
        "id": "zJVzOSs89qyO"
      }
    },
    {
      "cell_type": "code",
      "source": [
        "review_ratings=reviews.groupby('Reviewer').apply(lambda x:np.average(x['Rating'])).reset_index(name='Average Ratings')\n",
        "review_ratings=pd.merge(top_reviewers,review_ratings,how='inner',left_on='Reviewer',right_on='Reviewer')\n",
        "top_reviewers_ratings=review_ratings[:15]"
      ],
      "metadata": {
        "_kg_hide-input": true,
        "trusted": true,
        "id": "oRs2l5GT9qyO"
      },
      "execution_count": null,
      "outputs": []
    },
    {
      "cell_type": "code",
      "source": [
        "top_reviewers_ratings"
      ],
      "metadata": {
        "_kg_hide-input": true,
        "trusted": true,
        "id": "FYpcXS8T9qyO"
      },
      "execution_count": null,
      "outputs": []
    },
    {
      "cell_type": "markdown",
      "source": [
        "**And also plot a line chart to view them in a simple way**"
      ],
      "metadata": {
        "id": "o3UZg0DG9qyO"
      }
    },
    {
      "cell_type": "code",
      "source": [
        "review_ratings_plot = top_reviewers_ratings.groupby('Review Count').apply(lambda x:np.average(x['Average Ratings'])).reset_index(name='Average')\n",
        "plt.figure(figsize=(8, 8))\n",
        "\n",
        "# Plotting the line plot and scatter plot\n",
        "plt.plot(review_ratings_plot['Review Count'], review_ratings_plot['Average'], label='Average Ratings')\n",
        "plt.scatter(review_ratings_plot['Review Count'], review_ratings_plot['Average'], color='red', label='Data Points')\n",
        "\n",
        "plt.xlabel('Number of Reviews by an User', size=15)\n",
        "plt.ylabel('Average Ratings per Review Submitted', size=15)\n",
        "plt.title('Distribution of Average Ratings per Review Submitted', size=20)\n",
        "plt.legend()  # Adding a legend to differentiate line plot and scatter points\n",
        "\n",
        "plt.tight_layout()\n",
        "plt.show()"
      ],
      "metadata": {
        "_kg_hide-input": true,
        "trusted": true,
        "id": "eHBnQWHx9qyO"
      },
      "execution_count": null,
      "outputs": []
    },
    {
      "cell_type": "markdown",
      "source": [
        "# Big comparison: Followers vs Reviews vs Pictures"
      ],
      "metadata": {
        "id": "K1OnbwPY9qyP"
      }
    },
    {
      "cell_type": "markdown",
      "source": [
        "**How it has been the growth of the followers and the reviews in this 3 years of Zomato?**"
      ],
      "metadata": {
        "id": "qROyqgXP9qyP"
      }
    },
    {
      "cell_type": "code",
      "source": [
        "review_follow_1=reviews.groupby('Year').apply(lambda x:np.sum(x['Reviews'])).reset_index(name='Total Reviews')\n",
        "review_follow_2=reviews.groupby('Year').apply(lambda x:np.max(x['Followers'])).reset_index(name='Total Followers')\n",
        "pictures =reviews.groupby('Year').apply(lambda x:np.sum(x['Pictures'])).reset_index(name='Total Pictures')\n",
        "review_follow=pd.merge(review_follow_1,review_follow_2, how='inner',left_on='Year',right_on='Year')\n",
        "review_follow=pd.merge(review_follow, pictures, how='inner',left_on='Year',right_on='Year')\n",
        "review_follow"
      ],
      "metadata": {
        "_kg_hide-input": true,
        "trusted": true,
        "id": "VGOyOgO99qyP"
      },
      "execution_count": null,
      "outputs": []
    },
    {
      "cell_type": "code",
      "source": [
        "plt.figure(figsize=(12,6))\n",
        "plt.plot(review_follow['Year'],review_follow['Total Followers'], color = 'blue')\n",
        "plt.plot(review_follow['Year'],review_follow['Total Reviews'], color = \"green\")\n",
        "plt.plot(review_follow['Year'],review_follow['Total Pictures'], color = \"orange\")\n",
        "plt.xlabel('Year',size=15)\n",
        "plt.xticks(rotation=75)\n",
        "plt.grid()\n",
        "plt.ylabel('Reviews/Followers/Pictures',size=15)\n",
        "plt.title('Reviews,Followers and Pictures count with Time',size=20)\n",
        "plt.legend(['Total Followers','Total Review', 'Total Pictures'])"
      ],
      "metadata": {
        "_kg_hide-input": true,
        "trusted": true,
        "id": "yWe1oPfc9qyP"
      },
      "execution_count": null,
      "outputs": []
    },
    {
      "cell_type": "markdown",
      "source": [
        "**As we can see there is a big difference between them, there are many more reviews than the total followers. Not to mention the images that have been considered by even fewer people, too bad because they could be an added value as they can entice customers more immediately than just written reviews.**"
      ],
      "metadata": {
        "id": "yPvq30Jq9qyP"
      }
    },
    {
      "cell_type": "markdown",
      "source": [
        "# Reviews per hour"
      ],
      "metadata": {
        "id": "dRHDcFWD9qyP"
      }
    },
    {
      "cell_type": "markdown",
      "source": [
        "**What is the period of time in a day what the people make more reviews?**"
      ],
      "metadata": {
        "id": "ceOsNiv39qyQ"
      }
    },
    {
      "cell_type": "code",
      "source": [
        "reviews_for_hour = reviews.groupby('Hour').apply(lambda x: x['Hour'].count()).reset_index(name='Reviews per hour')\n",
        "reviews_for_hour"
      ],
      "metadata": {
        "_kg_hide-input": true,
        "trusted": true,
        "id": "R7p0mok19qyQ"
      },
      "execution_count": null,
      "outputs": []
    },
    {
      "cell_type": "code",
      "source": [
        "plt.figure(figsize=(15, 5))\n",
        "\n",
        "# Using Seaborn's bar plot for consistent styling\n",
        "sns.barplot(data=reviews_for_hour, x='Hour', y='Reviews per hour', palette=\"hls\")\n",
        "\n",
        "plt.title('Reviews per Hour', size=28)\n",
        "plt.grid(True)  # Adding grid lines\n",
        "plt.xlabel('Hours', size=15)\n",
        "plt.ylabel('Number of Reviews', size=15)\n",
        "\n",
        "plt.tight_layout()\n",
        "plt.show()"
      ],
      "metadata": {
        "_kg_hide-input": true,
        "trusted": true,
        "id": "nY65LRuz9qyQ"
      },
      "execution_count": null,
      "outputs": []
    },
    {
      "cell_type": "markdown",
      "source": [
        "**As we can se there is an increase of reviews made from the afternoon to the midnight and then in the morning there is a decrease, but I think this is normal because in during the morning the most of the people is working or is at school**"
      ],
      "metadata": {
        "id": "vFwqcHAG9qyQ"
      }
    },
    {
      "cell_type": "markdown",
      "source": [
        "# Most common words in reviews"
      ],
      "metadata": {
        "id": "C1do08Gq9qyQ"
      }
    },
    {
      "cell_type": "markdown",
      "source": [
        "**What are the most common words in the reviews?**"
      ],
      "metadata": {
        "id": "oDcdj4_N9qyR"
      }
    },
    {
      "cell_type": "markdown",
      "source": [
        "**First of all we import the 'spacy' library that is one of the most popular library for NLP (Natural Language Processing)**"
      ],
      "metadata": {
        "id": "N1Vs0V2v9qyR"
      }
    },
    {
      "cell_type": "code",
      "source": [
        "import spacy"
      ],
      "metadata": {
        "trusted": true,
        "id": "aE1XbItQ9qyR"
      },
      "execution_count": null,
      "outputs": []
    },
    {
      "cell_type": "markdown",
      "source": [
        "**And then we draw a WordCloud of the most common words after have found them with the tokenization method**"
      ],
      "metadata": {
        "id": "zdvYnUWI9qyR"
      }
    },
    {
      "cell_type": "code",
      "source": [
        "import spacy\n",
        "from wordcloud import WordCloud\n",
        "import matplotlib.pyplot as plt\n",
        "\n",
        "# Load the English NLP model from spaCy\n",
        "nlp = spacy.load('en_core_web_sm')\n",
        "\n",
        "reviews_feature = reviews['Review']\n",
        "all_words = []\n",
        "\n",
        "# Process each review\n",
        "for review in reviews_feature:\n",
        "    doc = nlp(review)\n",
        "    words = [token.text\n",
        "             for token in doc\n",
        "             if not token.is_stop and not token.is_punct]\n",
        "    all_words.extend(words)\n",
        "\n",
        "rest_string = ' '.join(all_words)  # Join processed words using a space\n",
        "\n",
        "wordcloud = WordCloud(width=1400, height=1400,\n",
        "                      background_color='lavenderblush',\n",
        "                      min_font_size=12).generate(rest_string)\n",
        "\n",
        "# Plot the WordCloud image\n",
        "plt.figure(figsize=(8, 8), facecolor=None)\n",
        "plt.imshow(wordcloud, interpolation='bilinear')\n",
        "plt.axis(\"off\")\n",
        "plt.tight_layout(pad=0)\n",
        "\n",
        "plt.show()\n"
      ],
      "metadata": {
        "_kg_hide-input": true,
        "trusted": true,
        "id": "NI6ZzYq-9qyR"
      },
      "execution_count": null,
      "outputs": []
    },
    {
      "cell_type": "markdown",
      "source": [
        "# Costs vs Ratings"
      ],
      "metadata": {
        "id": "_lVzKGzu9qyR"
      }
    },
    {
      "cell_type": "markdown",
      "source": [
        "**Will the most expensive restaurants be the highest rated? Will high prices please customers with high quality food?**"
      ],
      "metadata": {
        "id": "QqNJxpn29qyS"
      }
    },
    {
      "cell_type": "code",
      "source": [
        "df_merged= reviews.merge(restaurants, how='inner', left_on='Restaurant', right_on='Name')\n",
        "df_merged.head(1)"
      ],
      "metadata": {
        "_kg_hide-input": true,
        "trusted": true,
        "id": "j-qN3VEA9qyS"
      },
      "execution_count": null,
      "outputs": []
    },
    {
      "cell_type": "code",
      "source": [
        "plt.figure(figsize=(10, 6))\n",
        "\n",
        "# Create a box plot using Seaborn's sns.boxplot\n",
        "sns.boxplot(x=df_merged['Rating'], y=df_merged['Cost'])\n",
        "\n",
        "plt.title('Box Plot of Ratings vs. Costs', size=18)\n",
        "plt.xlabel('Rating', size=15)\n",
        "plt.ylabel('Cost', size=15)\n",
        "\n",
        "plt.tight_layout()\n",
        "plt.show()"
      ],
      "metadata": {
        "_kg_hide-input": true,
        "trusted": true,
        "id": "hS94wtJe9qyS"
      },
      "execution_count": null,
      "outputs": []
    },
    {
      "cell_type": "markdown",
      "source": [
        "**As we can see there is not much data on expensive restaurants probably because many people prefer to spend less, but we can also see that the Rating 5.0 box is the most elongated vertically, so we can say that people do not go to eat in expensive restaurants. often but the few times they go there they can feel satisfied**"
      ],
      "metadata": {
        "id": "TCBRiOzg9qyS"
      }
    },
    {
      "cell_type": "markdown",
      "source": [
        "----------------------------------------------------"
      ],
      "metadata": {
        "id": "seHKF_NG9qyS"
      }
    },
    {
      "cell_type": "markdown",
      "source": [
        "# **Conclusion**"
      ],
      "metadata": {
        "id": "gCX9965dhzqZ"
      }
    },
    {
      "cell_type": "markdown",
      "source": [
        "Write the conclusion here."
      ],
      "metadata": {
        "id": "Fjb1IsQkh3yE"
      }
    },
    {
      "cell_type": "markdown",
      "source": [
        "### ***Hurrah! You have successfully completed your Machine Learning Capstone Project !!!***"
      ],
      "metadata": {
        "id": "gIfDvo9L0UH2"
      }
    }
  ]
}